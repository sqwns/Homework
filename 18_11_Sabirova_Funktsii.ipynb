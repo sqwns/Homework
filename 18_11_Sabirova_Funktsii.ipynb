{
 "cells": [
  {
   "cell_type": "code",
   "execution_count": 5,
   "metadata": {},
   "outputs": [],
   "source": [
    "import json\n",
    "import csv\n",
    "import pandas as pd \n",
    "import os\n",
    "import pprint as pp"
   ]
  },
  {
   "cell_type": "markdown",
   "metadata": {},
   "source": [
    "1)Написать функцию, которая принимает id преподавателя и id группы. Функция возвращает False, \n",
    "если данный преподаватель не преподавал у данной группы, None, если такого прподавателя не существует, \n",
    "иначе возвращается словарь, в котором ключами являются наименования предметов, а значениями словари, \n",
    "которые хранят в себе информации о количестве студентов, сдавших на 5, 4, 3 и 2 по данному предмету."
   ]
  },
  {
   "cell_type": "code",
   "execution_count": null,
   "metadata": {},
   "outputs": [],
   "source": [
    "def F1(first, second): \n",
    "    with open('teachers.csv', 'r') as File:\n",
    "        teachbaza = csv.DictReader(File, delimiter=',', encoding='utf8')\n",
    "        teach = [i for i in teachbaza if i['id']== first]\n",
    "        if not teach: return None\n",
    "    with open('students.csv', 'r') as File2:\n",
    "        studbaza = csv.Dictreader(File2, delimiter= ',', encoding='utf8')\n",
    "        stud = [i for i in studbaza if i['group_id']== second]\n",
    "    with open('subjects.csv', 'r') as File3:\n",
    "        subbaza= csv.Dictreader(File3, delimiter=',', encoding='utf8')\n",
    "    with open('results.csv', 'r') as File4:\n",
    "        resbaza = csv.DcitReader(File4, delimiter=',', encoding='utf8')\n",
    "    for subject in subbaza:\n",
    "        result = [for i in resbaza if i['subject']== subject['id'] and i['id']== first]\n",
    "        star5 = 0\n",
    "        star4 = 0\n",
    "        star3 = 0\n",
    "        star2 = 0\n",
    "        if result:\n",
    "            for student in studbaza:\n",
    "                result = [i for i in result if i['student_id']== second]\n",
    "                if result:\n",
    "                    full= int(result['full'])\n",
    "                    if 85< full < 100: star5+= 1\n",
    "                    elif 70< full < 85: star4+=1\n",
    "                    elif 50< full < 70: star3+=1\n",
    "                    elif full < 50: star2+=1\n",
    "                    results = {subject['subject_name']: {\"5\":star5, \"4\":star4, \"3\":star3, \"2\":star2}}\n",
    "    if results:\n",
    "        return results\n",
    "    else:\n",
    "        return False\n",
    "F1()"
   ]
  },
  {
   "cell_type": "markdown",
   "metadata": {},
   "source": [
    "2)Написать функцию, которая принимает ФИО преподавателя и необязательный параметр to_json, который по умолчанию равен False и принимает имя файла. Если указан параметр to_json, то он должен сохранить итоговый результат в данный файл и вернуть значение True, иначе просто вернуть словарь. В словаре ключами являются наименования групп, в которых он преподавал, а значениям - результат выполнения первой функции."
   ]
  },
  {
   "cell_type": "code",
   "execution_count": null,
   "metadata": {},
   "outputs": [],
   "source": [
    "def F2(): \n",
    "    result = pd.read_csv('results.csv', sep=';', encoding='UTF-8')\n",
    "    teacher = pd.read_csv('teachers.csv', sep=';',encoding='UTF-8')\n",
    "    subject = pd.read_csv('subjects.csv', sep=';',encoding='UTF-8')\n",
    "    student = pd.read_csv('students.csv', sep=';',encoding='UTF-8')\n",
    "    group = pd.read_csv('groups.csv', sep=';',encoding='UTF-8')\n",
    "    result = result.merge(teacher, left_on = 'teacher_id', right_on = 'id')\n",
    "    del result['id_y']\n",
    "    result = result.merge(subject, left_on = 'subject', right_on = 'id')\n",
    "    del result['id']\n",
    "    result = result.merge(student, left_on = 'student_id', right_on = 'id')\n",
    "    del result['id']\n",
    "    result = result.merge(group, left_on = 'group_id', right_on = 'id')\n",
    "    del result['id']\n",
    "    result.to_csv('result2s.csv',encoding='UTF-9')\n",
    "F2()"
   ]
  },
  {
   "cell_type": "markdown",
   "metadata": {},
   "source": [
    "3)Реализовать функцию, которая принимает параметры entry_year - год поступления, subject_name - наименование предмета и необязаиельный параметр to_json, по умолчанию равный False. Функция должна возвращать словарь со статистикой по группам по данному предмету. Ключами словаря являются id группы, а значениями словари. Внутренний словарь имеет ключи group_name (наименование группы), stats (статистика). Значением ключа статистика является словарь, который возвращает количество студентов получившие оценку 5, количество студентов получившие оценку 4, количество студентов получившие оценку 3, количество студентов получившие оценку 2. Если параметр to_json указан, то сохраняет полученный словарь в указанный файл и возвращает True, иначе просто возвращает словарь."
   ]
  },
  {
   "cell_type": "code",
   "execution_count": null,
   "metadata": {},
   "outputs": [],
   "source": [
    "# no dataframe, просто можно в функцию выше впихнуть\n",
    "def F3():\n",
    "    os.remove('result2s.csv')\n",
    "F3()"
   ]
  },
  {
   "cell_type": "markdown",
   "metadata": {},
   "source": [
    "4) Реализовать функцию, которая по уникальному идентификатору студента возвращает его сумму баллов по каждому из контрольных мероприятий, в том числе total"
   ]
  },
  {
   "cell_type": "code",
   "execution_count": null,
   "metadata": {},
   "outputs": [],
   "source": [
    "def F4(student_id):                                 \n",
    "    dcit = {'att1': 0, 'att2': 0, 'exam': 0, 'total': 0}\n",
    "    for res1 in res:\n",
    "        if res1['student_id']== str(student_id):\n",
    "            dcit['att1']+= int(res1['att1'])\n",
    "            dcit['att2'] += int(res1['att2'])\n",
    "            dcit['exam'] += int(res1['exam'])\n",
    "            dcit['total'] += int(res1['total'])\n",
    "    return dcit\n",
    "F4()"
   ]
  },
  {
   "cell_type": "markdown",
   "metadata": {},
   "source": [
    "5) Реализовать функцию, которая принимает параметры thread - поток в виде (ПИ2018), где буквами является наименование направления, а число - год поступления, необязательный параметр test, который по умолчанию равен total (список возможных значений att1, att2, exam, total), а также необязательный параметр to_json=False. Если параметр указан, то результат выполнения функции должен записываться в файл и функция возвращает True, если такого потока не существует, то возвращает None, иначе возвращает результат функции. Результатом выполнения функции является словарь с рейтингом студентов по указанному из периодов в параметре test. Ключом словаря является место студента в рейтинге, значением - словарь с информацией из файла students.csv, а также информацию, которая возвращается после выполнения первой функции."
   ]
  },
  {
   "cell_type": "code",
   "execution_count": 6,
   "metadata": {},
   "outputs": [],
   "source": [
    "def F5():\n",
    "    import pandas as pd \n",
    "    result = pd.read_csv('results.csv', sep=';',encoding='UTF-8')\n",
    "    teacher = pd.read_csv('teachers.csv', sep=';',encoding='UTF-8')\n",
    "    subject = pd.read_csv('subjects.csv', sep=';',encoding='UTF-8')\n",
    "    student = pd.read_csv('students.csv', sep=';',encoding='UTF-8')\n",
    "    group = pd.read_csv('groups.csv', sep=';',encoding='UTF-8')\n",
    "    result = result.merge(teacher, left_on = 'teacher_id', right_on = 'id')\n",
    "    del result['id_y']\n",
    "    result = result.merge(subject, left_on = 'subject', right_on = 'id')\n",
    "    del result['id']\n",
    "    result = result.merge(student, left_on = 'student_id', right_on = 'id')\n",
    "    del result['id']\n",
    "    result = result.merge(group, left_on = 'group_id', right_on = 'id')\n",
    "    del result['id']\n",
    "    result.to_csv('result23s.csv',encoding='ANSI')\n",
    "def F5_2():\n",
    "    os.remove('result23s.csv')\n",
    "F5()\n",
    "F5_2()"
   ]
  },
  {
   "cell_type": "markdown",
   "metadata": {},
   "source": [
    "6) Написать функцию, которая принимает имя группы, год поступления и наименование предмета. Также функция принимает необязательный параметр to_json, который по умолчанию равен False и принимает имя файла. Функция должна вернуть словарь, которая содержит оценки всех студентов данной группы по данному предмету. Ключом является id студента, значением словарь, который содержит полное имя студента и итоговый балл. Если to_json указывает имя файла, то сохранить результаты в файл и функция возвращает значение True, иначе возвращает получившийся словарь."
   ]
  },
  {
   "cell_type": "code",
   "execution_count": null,
   "metadata": {},
   "outputs": [],
   "source": [
    "def F6(name, sub, to_json = False):\n",
    "    result = pd.read_csv('results.csv', sep=';',encoding='UTF-8')\n",
    "    subject = pd.read_csv('subjects.csv', sep=';',encoding='UTF-8')\n",
    "    student = pd.read_csv('students.csv', sep=';',encoding='UTF-8')\n",
    "    group = pd.read_csv('groups.csv', sep=';',encoding='UTF-8')\n",
    "    if (name in pd.unique(group['name'])) and (sub in pd.unique(subject['subject_name'])):\n",
    "        result = result[['student_id','subject','total']]\n",
    "        result = result.merge(subject, left_on = 'subject', right_on = 'id')\n",
    "        result = result[result.subject_name == sub]\n",
    "        del result['id'], subject\n",
    "        result = result.merge(student, left_on = 'student_id', right_on = 'id')\n",
    "        result = result[['total','student_id','last_name','first_name','group_id']] \n",
    "        del student\n",
    "        result = result.merge(group, left_on = 'group_id', right_on = 'id')\n",
    "        del group\n",
    "        result = result[['total','student_id','last_name','first_name','name']]\n",
    "        result = result[result.name == name]\n",
    "        del result['name']\n",
    "        result = result.reset_index(drop=True)\n",
    "        dicti = {}\n",
    "        for i in range(len(result)):\n",
    "            row = result.loc[i]\n",
    "            dicti[row['student_id']] = {}\n",
    "            dicti[row['student_id']]['total'] = row['total']\n",
    "            dicti[row['student_id']]['name'] = row['last_name'] + ' ' + row['first_name']\n",
    "        del result\n",
    "        if to_json:\n",
    "            with open('{}.json'.format(to_json), 'w') as f:\n",
    "                json.dump(dicti, f)\n",
    "            return True\n",
    "        else:\n",
    "            return dicti\n",
    "    else:\n",
    "        return 'Не верные данные'\n",
    "F6()"
   ]
  }
 ],
 "metadata": {
  "kernelspec": {
   "display_name": "Python 3",
   "language": "python",
   "name": "python3"
  },
  "language_info": {
   "codemirror_mode": {
    "name": "ipython",
    "version": 3
   },
   "file_extension": ".py",
   "mimetype": "text/x-python",
   "name": "python",
   "nbconvert_exporter": "python",
   "pygments_lexer": "ipython3",
   "version": "3.8.3"
  }
 },
 "nbformat": 4,
 "nbformat_minor": 4
}
