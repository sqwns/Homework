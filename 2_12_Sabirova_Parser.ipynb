{
 "cells": [
  {
   "cell_type": "code",
   "execution_count": 8,
   "metadata": {},
   "outputs": [],
   "source": [
    "import requests\n",
    "import time\n",
    "import urllib\n",
    "from bs4 import BeautifulSoup\n",
    "from lxml import html\n",
    "from urllib import parse"
   ]
  },
  {
   "cell_type": "code",
   "execution_count": 9,
   "metadata": {},
   "outputs": [],
   "source": [
    "#константы\n",
    "base_url = 'https://kinoteatr.ru'\n",
    "r = requests.get(f'{base_url}/raspisanie-kinoteatrov/')\n",
    "b = requests.get(f'{base_url}/kinoafisha')\n",
    "soap = BeautifulSoup(r.text, 'lxml')\n",
    "cinemas = []"
   ]
  },
  {
   "cell_type": "code",
   "execution_count": 16,
   "metadata": {},
   "outputs": [],
   "source": [
    "for i in soap.findAll('div', class_='col-md-12 cinema_card'):\n",
    "    name1 = i.find('h3').text.strip()\n",
    "    href1 = i.find('a')['href'].strip()\n",
    "    address1 = i.findAll('span', class_='sub_title')[0].text.strip()\n",
    "    cinemas.append({\n",
    "        'name' : name1,\n",
    "        'href' : href1,\n",
    "        'address' : address1\n",
    "    })\n",
    "    #print(name, href, address, sep='\\n')\n",
    "#print(sorted(cinemas), sep=\"\\n\")"
   ]
  },
  {
   "cell_type": "code",
   "execution_count": null,
   "metadata": {},
   "outputs": [],
   "source": [
    "for i, cinema in enumerate(cinemas):\n",
    "    r = requests.get(cinema['href'])\n",
    "    soap = BeautifulSoup(r.text, 'lxml')\n",
    "    films = soap.findAll('div', class_='shedule_movie bordered gtm_movie')\n",
    "    films_dict = []\n",
    "    for film in films:\n",
    "        films_dict.append({\n",
    "        'name' : film['data-gtm-list-item-filmname'],\n",
    "        'href' : film.find('a', class_='gtm-ec-list-item-movie')['href'],\n",
    "        'format' : film['data-gtm-format'],\n",
    "        'genre' : film['data-gtm-list-item-genre'],\n",
    "        'raiting_sub' : film.findAll('i', class_='raiting_sub')[0].text.strip(),\n",
    "        'table' : film.findAll('span', class_='shedule_session_time')\n",
    "        })\n",
    "cinemas[i]['films'] = films_dict\n",
    "\n",
    "tom = requests.get(f'{base_url}/raspisanie-kinoteatrov//?day=tomorrow')\n",
    "soupb = BeautifulSoup(tom.text, 'lxml')\n",
    "cinemat=  []"
   ]
  },
  {
   "cell_type": "code",
   "execution_count": null,
   "metadata": {},
   "outputs": [],
   "source": [
    "for i in soupb.findAll('div', class_='col-md-12 cinema_card'):\n",
    "    nameb = infl.find('h3').text.strip()\n",
    "    hrefb = infl.find('a')['href'].strip()\n",
    "    addressb = infl.findAll('span', class_='sub_title')[0].text.strip()\n",
    "    cinemat.append({\n",
    "        'name' : nameb,\n",
    "        'href' : hrefb,\n",
    "        'address' : addressb\n",
    "    })"
   ]
  },
  {
   "cell_type": "code",
   "execution_count": null,
   "metadata": {},
   "outputs": [],
   "source": [
    "for i, cinema in enumerate(cinemat):\n",
    "    tom = requests.get(cinema['href'])\n",
    "    soupb = BeautifulSoup(tom.text, 'lxml')\n",
    "    filmt = soupb.findAll('div', class_='shedule_movie bordered gtm_movie')\n",
    "    films_tom = []\n",
    "    for film_ in filmt:\n",
    "        films_tom.append({\n",
    "        'name' :film_['data-gtm-list-item-filmname'],\n",
    "        'href' : film_.find('a', class_='gtm-ec-list-item-movie')['href'],\n",
    "        'format' : film_['data-gtm-format'],\n",
    "        'genre' : film_['data-gtm-list-item-genre'],\n",
    "        'raiting_sub' : film_.findAll('i', class_='raiting_sub')[0].text.strip(),\n",
    "        'table' : film_.findAll('span', class_='shedule_session_time')\n",
    "        })\n",
    "cinemat[i]['filmt']= films_tom\n",
    "#print(films_dict, sep=', ', end='\\n')\n",
    "#print(cinemas, sep=', ', end='\\n')\n",
    "print(cinemas)\n",
    "#print(films_dict)\n",
    "print(cinemat)"
   ]
  }
 ],
 "metadata": {
  "kernelspec": {
   "display_name": "Python 3",
   "language": "python",
   "name": "python3"
  },
  "language_info": {
   "codemirror_mode": {
    "name": "ipython",
    "version": 3
   },
   "file_extension": ".py",
   "mimetype": "text/x-python",
   "name": "python",
   "nbconvert_exporter": "python",
   "pygments_lexer": "ipython3",
   "version": "3.8.3"
  }
 },
 "nbformat": 4,
 "nbformat_minor": 4
}
