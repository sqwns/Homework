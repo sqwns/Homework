{
 "cells": [
  {
   "cell_type": "raw",
   "metadata": {},
   "source": [
    "1) Функция принимает два кортежа из двух элементов – координаты точек. Вывести уравнение прямой, проходящей через заданные точки. Функция должна вызывать ошибку, если переданные данные в нее некорректны (кортежи имеют не 2 элемента, типы данных не float и не integer)\n"
   ]
  },
  {
   "cell_type": "code",
   "execution_count": 1,
   "metadata": {},
   "outputs": [],
   "source": [
    "import math"
   ]
  },
  {
   "cell_type": "code",
   "execution_count": 5,
   "metadata": {},
   "outputs": [
    {
     "data": {
      "text/plain": [
       "'12y= 297x - 4275'"
      ]
     },
     "execution_count": 5,
     "metadata": {},
     "output_type": "execute_result"
    }
   ],
   "source": [
    "def kort(kart1, kart2):\n",
    "    assert isinstance(kart1, tuple) and isinstance(kart2, tuple), \"неправильный тип данных\"\n",
    "    assert len(kart1) == 2 and len(kart2) == 2, \"в кортеже нет 2 элементов\"\n",
    "    for i in kart1:\n",
    "        if not(isinstance(i, float) or isinstance(i, int)):\n",
    "            raise TypeError(\"неправильный тип данных в первом кортеже\")\n",
    "    for i in kart2:\n",
    "        if not(isinstance(i, float) or isinstance(i, int)):\n",
    "            raise TypeError(\"неправильный тип данных во втором кортеже\")\n",
    "    x1 = kart1[0]\n",
    "    y1 = kart1[1]\n",
    "    x2 = kart2[0]\n",
    "    y2 = kart2[1]\n",
    "    ky = x1 - x2\n",
    "    kx = y1 - y2\n",
    "    b = x1 * y2 - x2 * y1\n",
    "    if b>0:\n",
    "        return f\"{ky}y= {kx}x + {b}\"\n",
    "    else:\n",
    "        return f\"{ky}y= {kx}x - {-b}\"\n",
    "kort((27, 312), (15, 15))"
   ]
  },
  {
   "cell_type": "raw",
   "metadata": {},
   "source": [
    "2) Реализовать функцию, которая вычисляет, сколько придется платить в месяц по кредиту и сколько всего отдать денег банку за весь период. Функция принимает обязательные аргументы p, n и необязательный параметр Boolean и необязательные параметры m, s. Если необязательный параметр Boolean равен True, то функция возвращает ежемесячный платеж и обязательно принимает параметр s, иначе возвращает всю сумму и обязательно принимает параметр m. Если данные параметры не передаются, вызывать ошибку. Функция должна иметь обработчик ошибок.\n"
   ]
  },
  {
   "cell_type": "code",
   "execution_count": 9,
   "metadata": {},
   "outputs": [
    {
     "name": "stdout",
     "output_type": "stream",
     "text": [
      "Сумма займа: 100000\n",
      "Процентная ставка: 55\n",
      "Расчетное времяя выплаты: 5\n",
      "Выплата в месяц: 5501637.39 $\n"
     ]
    }
   ],
   "source": [
    "def credits():\n",
    "    x = 0\n",
    "    y = 0\n",
    "    z = 0\n",
    "    m = 0\n",
    "    d = 0\n",
    "    price = input(\"Сумма займа: \")\n",
    "    rate = int(input(\"Процентная ставка: \"))\n",
    "    time = input(\"Расчетное времяя выплаты: \")\n",
    "    d = float(time)\n",
    "    z = float(price)\n",
    "    x = float(rate)\n",
    "    y = d * 12\n",
    "    m = z * x * (1 + x) * y \\\n",
    "                    / ((1+ rate) * y - 1)\n",
    "    print(\"Выплата в месяц: %.2f $\" % m)\n",
    "credits()"
   ]
  },
  {
   "cell_type": "raw",
   "metadata": {},
   "source": [
    "3) даны два списка и необходимо найти их совпадающие элементы, то есть область пересечения списков - элементы, которые присутствуют в обоих списках. Дополнительно: реализовать при помощи генератора. Дополнительно2: реализовать при помощи анонимной функции\n"
   ]
  },
  {
   "cell_type": "code",
   "execution_count": 11,
   "metadata": {},
   "outputs": [
    {
     "name": "stdout",
     "output_type": "stream",
     "text": [
      "[2131233, ['US', 'UK'], 5454523, '2132', 'qwasda']\n"
     ]
    }
   ],
   "source": [
    "def matcher():\n",
    "    spisok = [2131233, ['US', 'UK'], 5454523, 'czxed', \"2132\", 'cbvdfg', 'qwasda', [23457, 2, 26453]]\n",
    "    spisok2 = [5454523, ['US', 'UK'], 2131233, \"2132\", 'qwasda']\n",
    "    match = []\n",
    "    for i in spisok:\n",
    "        if i in match:\n",
    "            continue\n",
    "        for i2 in spisok2:\n",
    "            if i == i2:\n",
    "                match.append(i)\n",
    "                break\n",
    "    print(match)\n",
    "matcher()"
   ]
  },
  {
   "cell_type": "raw",
   "metadata": {},
   "source": [
    "4) Отсортировать слова в строке по возрастанию их длины. Реализовать при помощи лямбда функции"
   ]
  },
  {
   "cell_type": "code",
   "execution_count": 13,
   "metadata": {},
   "outputs": [
    {
     "name": "stdout",
     "output_type": "stream",
     "text": [
      "['d', 'vc', 'czx', 'hjk', 'wqewq', 'wqertw', 'xcvvxc', 'stoppls', 'fgsdgdsgsergsdf', 'ghbvnvnbnnvbdsfdrtwe']\n"
     ]
    }
   ],
   "source": [
    "spisok3 = ['czx', 'wqewq', 'd', 'wqertw','xcvvxc','fgsdgdsgsergsdf', 'vc', 'stoppls', 'hjk', 'ghbvnvnbnnvbdsfdrtwe']\n",
    "spisok3.sort(key = len)\n",
    "print(spisok3)"
   ]
  },
  {
   "cell_type": "raw",
   "metadata": {},
   "source": [
    "5) Посчитать количество одинаковых элементов в списке. Результатом является словарь. Реализовать при помощи анонимной функции.\n"
   ]
  },
  {
   "cell_type": "code",
   "execution_count": 15,
   "metadata": {},
   "outputs": [
    {
     "name": "stdout",
     "output_type": "stream",
     "text": [
      "Требуется ввести слово  asd\n",
      "Требуется ввести слово  asd\n",
      "Требуется ввести слово  asd\n",
      "Требуется ввести слово  dsa\n",
      "Требуется ввести слово  dsa\n",
      "Требуется ввести слово  fg\n",
      "{'fg': 1, 'dsa': 2, 'asd': 3}\n"
     ]
    }
   ],
   "source": [
    "counter = []\n",
    "for i in range(6):\n",
    "    words = str(input('Требуется ввести слово  '))\n",
    "    counter.append(words)\n",
    "print(dict((a, counter.count(a)) for a in set(counter) if counter.count(a)> 0))"
   ]
  },
  {
   "cell_type": "code",
   "execution_count": null,
   "metadata": {},
   "outputs": [],
   "source": []
  }
 ],
 "metadata": {
  "kernelspec": {
   "display_name": "Python 3",
   "language": "python",
   "name": "python3"
  },
  "language_info": {
   "codemirror_mode": {
    "name": "ipython",
    "version": 3
   },
   "file_extension": ".py",
   "mimetype": "text/x-python",
   "name": "python",
   "nbconvert_exporter": "python",
   "pygments_lexer": "ipython3",
   "version": "3.8.3"
  }
 },
 "nbformat": 4,
 "nbformat_minor": 4
}
